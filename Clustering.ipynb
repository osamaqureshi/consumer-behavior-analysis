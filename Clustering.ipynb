{
 "cells": [
  {
   "cell_type": "markdown",
   "metadata": {},
   "source": [
    "An online shopping site has the following primary pages or sections: Home, Products, Search, Prod_A, Prod_B, Prod_C, Cart, Purchase. A user may browse from \"Home\" to \"Products\" and then to one of the individual products. The user may also search for a specific product by using the \"Search\" function. A visit to \"Cart\" implies that the user has placed an item in the shopping cart, and \"Purchase\" indicates that the user has completed the purchase of items in the shopping cart. The site has collected some hypothetical session data for 100 sessions. This data is available on blackboard along with this assignment (CSV format)."
   ]
  },
  {
   "cell_type": "code",
   "execution_count": 1,
   "metadata": {},
   "outputs": [],
   "source": [
    "import numpy as np\n",
    "import pandas as pd\n",
    "import matplotlib.pyplot as plt\n",
    "from mpl_toolkits.mplot3d import Axes3D"
   ]
  },
  {
   "cell_type": "code",
   "execution_count": 2,
   "metadata": {},
   "outputs": [],
   "source": [
    "from sklearn.decomposition import PCA, NMF, KernelPCA\n",
    "from sklearn.discriminant_analysis import LinearDiscriminantAnalysis\n",
    "from sklearn.cluster import DBSCAN, KMeans, AgglomerativeClustering\n",
    "from sklearn.metrics import silhouette_samples, silhouette_score\n",
    "from sklearn.metrics import accuracy_score"
   ]
  },
  {
   "cell_type": "code",
   "execution_count": 3,
   "metadata": {},
   "outputs": [
    {
     "data": {
      "text/html": [
       "<div>\n",
       "<style scoped>\n",
       "    .dataframe tbody tr th:only-of-type {\n",
       "        vertical-align: middle;\n",
       "    }\n",
       "\n",
       "    .dataframe tbody tr th {\n",
       "        vertical-align: top;\n",
       "    }\n",
       "\n",
       "    .dataframe thead th {\n",
       "        text-align: right;\n",
       "    }\n",
       "</style>\n",
       "<table border=\"1\" class=\"dataframe\">\n",
       "  <thead>\n",
       "    <tr style=\"text-align: right;\">\n",
       "      <th></th>\n",
       "      <th>Home</th>\n",
       "      <th>Products</th>\n",
       "      <th>Search</th>\n",
       "      <th>Prod_A</th>\n",
       "      <th>Prod_B</th>\n",
       "      <th>Prod_C</th>\n",
       "      <th>Cart</th>\n",
       "      <th>Purchase</th>\n",
       "    </tr>\n",
       "  </thead>\n",
       "  <tbody>\n",
       "    <tr>\n",
       "      <th>0</th>\n",
       "      <td>1</td>\n",
       "      <td>0</td>\n",
       "      <td>0</td>\n",
       "      <td>0</td>\n",
       "      <td>0</td>\n",
       "      <td>0</td>\n",
       "      <td>0</td>\n",
       "      <td>0</td>\n",
       "    </tr>\n",
       "    <tr>\n",
       "      <th>1</th>\n",
       "      <td>1</td>\n",
       "      <td>1</td>\n",
       "      <td>1</td>\n",
       "      <td>0</td>\n",
       "      <td>0</td>\n",
       "      <td>0</td>\n",
       "      <td>1</td>\n",
       "      <td>0</td>\n",
       "    </tr>\n",
       "    <tr>\n",
       "      <th>2</th>\n",
       "      <td>1</td>\n",
       "      <td>0</td>\n",
       "      <td>0</td>\n",
       "      <td>0</td>\n",
       "      <td>0</td>\n",
       "      <td>0</td>\n",
       "      <td>0</td>\n",
       "      <td>0</td>\n",
       "    </tr>\n",
       "  </tbody>\n",
       "</table>\n",
       "</div>"
      ],
      "text/plain": [
       "   Home  Products  Search  Prod_A  Prod_B  Prod_C  Cart  Purchase\n",
       "0     1         0       0       0       0       0     0         0\n",
       "1     1         1       1       0       0       0     1         0\n",
       "2     1         0       0       0       0       0     0         0"
      ]
     },
     "execution_count": 3,
     "metadata": {},
     "output_type": "execute_result"
    }
   ],
   "source": [
    "df = pd.read_csv('sessions.csv')\n",
    "df.head(3)"
   ]
  },
  {
   "cell_type": "code",
   "execution_count": 4,
   "metadata": {},
   "outputs": [
    {
     "data": {
      "text/html": [
       "<div>\n",
       "<style scoped>\n",
       "    .dataframe tbody tr th:only-of-type {\n",
       "        vertical-align: middle;\n",
       "    }\n",
       "\n",
       "    .dataframe tbody tr th {\n",
       "        vertical-align: top;\n",
       "    }\n",
       "\n",
       "    .dataframe thead th {\n",
       "        text-align: right;\n",
       "    }\n",
       "</style>\n",
       "<table border=\"1\" class=\"dataframe\">\n",
       "  <thead>\n",
       "    <tr style=\"text-align: right;\">\n",
       "      <th></th>\n",
       "      <th>PCA Ratios</th>\n",
       "      <th>Cumulative Sum</th>\n",
       "    </tr>\n",
       "  </thead>\n",
       "  <tbody>\n",
       "    <tr>\n",
       "      <th>0</th>\n",
       "      <td>0.270455</td>\n",
       "      <td>0.270455</td>\n",
       "    </tr>\n",
       "    <tr>\n",
       "      <th>1</th>\n",
       "      <td>0.198952</td>\n",
       "      <td>0.469407</td>\n",
       "    </tr>\n",
       "    <tr>\n",
       "      <th>2</th>\n",
       "      <td>0.153578</td>\n",
       "      <td>0.622984</td>\n",
       "    </tr>\n",
       "    <tr>\n",
       "      <th>3</th>\n",
       "      <td>0.121150</td>\n",
       "      <td>0.744135</td>\n",
       "    </tr>\n",
       "    <tr>\n",
       "      <th>4</th>\n",
       "      <td>0.084811</td>\n",
       "      <td>0.828946</td>\n",
       "    </tr>\n",
       "    <tr>\n",
       "      <th>5</th>\n",
       "      <td>0.076862</td>\n",
       "      <td>0.905808</td>\n",
       "    </tr>\n",
       "    <tr>\n",
       "      <th>6</th>\n",
       "      <td>0.053510</td>\n",
       "      <td>0.959319</td>\n",
       "    </tr>\n",
       "    <tr>\n",
       "      <th>7</th>\n",
       "      <td>0.040681</td>\n",
       "      <td>1.000000</td>\n",
       "    </tr>\n",
       "  </tbody>\n",
       "</table>\n",
       "</div>"
      ],
      "text/plain": [
       "   PCA Ratios  Cumulative Sum\n",
       "0    0.270455        0.270455\n",
       "1    0.198952        0.469407\n",
       "2    0.153578        0.622984\n",
       "3    0.121150        0.744135\n",
       "4    0.084811        0.828946\n",
       "5    0.076862        0.905808\n",
       "6    0.053510        0.959319\n",
       "7    0.040681        1.000000"
      ]
     },
     "execution_count": 4,
     "metadata": {},
     "output_type": "execute_result"
    }
   ],
   "source": [
    "pca = PCA()\n",
    "pca.fit(df.values)  \n",
    "pca_df = pca.transform(df.values)\n",
    "pca = pd.DataFrame({'PCA Ratios':pca.explained_variance_ratio_})\n",
    "pca['Cumulative Sum'] = [sum(pca['PCA Ratios'][:i+1]) for i in range(pca.shape[0])]\n",
    "pca"
   ]
  },
  {
   "cell_type": "code",
   "execution_count": 31,
   "metadata": {},
   "outputs": [],
   "source": [
    "kmeans = KMeans(n_clusters=8)\n",
    "kmeans.fit(df.values)\n",
    "y_kmeans = kmeans.predict(df.values)"
   ]
  },
  {
   "cell_type": "code",
   "execution_count": 32,
   "metadata": {},
   "outputs": [
    {
     "data": {
      "image/png": "[encoded data removed]",
      "text/plain": [
       "<Figure size 1080x360 with 2 Axes>"
      ]
     },
     "metadata": {
      "needs_background": "light"
     },
     "output_type": "display_data"
    }
   ],
   "source": [
    "centers = kmeans.cluster_centers_\n",
    "\n",
    "fig = plt.figure(figsize=(15,5))\n",
    "ax1 = fig.add_subplot(121)\n",
    "ax2 = fig.add_subplot(122, projection='3d')\n",
    "\n",
    "ax1.scatter(pca_df[:,0], pca_df[:,1])\n",
    "ax1.set_xlabel('dimension 1')\n",
    "ax1.set_ylabel('dimension 2')\n",
    "ax1.scatter(centers[:, 0], centers[:, 1], c='black', s=200, alpha=0.5);\n",
    "\n",
    "ax2.scatter(pca_df[:,0], pca_df[:,1], pca_df[:,2], c = 'r', marker = 'o')\n",
    "ax2.scatter(centers[:, 0], centers[:, 1], centers[:, 2], c='black', s=200, alpha=0.5);\n",
    "ax2.set_xlabel('dimension 1')\n",
    "ax2.set_ylabel('dimension 2')\n",
    "ax2.set_zlabel('dimension 3')\n",
    "\n",
    "centers = kmeans.cluster_centers_\n",
    "plt.scatter(centers[:, 0], centers[:, 1], c='black', s=200, alpha=0.5);"
   ]
  },
  {
   "cell_type": "code",
   "execution_count": 12,
   "metadata": {
    "scrolled": true
   },
   "outputs": [
    {
     "data": {
      "text/plain": [
       "array([[0.91, 0.45, 0.45, 0.68, 0.36, 0.27, 0.  , 0.  ],\n",
       "       [0.77, 0.77, 0.04, 0.92, 0.46, 0.27, 1.  , 0.65],\n",
       "       [0.09, 1.  , 0.38, 0.03, 1.  , 0.66, 0.47, 0.28],\n",
       "       [0.85, 0.5 , 1.  , 0.65, 0.15, 0.55, 1.  , 0.65]])"
      ]
     },
     "execution_count": 12,
     "metadata": {},
     "output_type": "execute_result"
    }
   ],
   "source": [
    "k = 4\n",
    "kmeans = KMeans(n_clusters=k, random_state=42)\n",
    "kmeans.fit(df.values)\n",
    "y_kmeans = kmeans.predict(df.values)\n",
    "\n",
    "temp = pd.DataFrame(columns=df.columns.tolist()+['Cluster'])\n",
    "for cluster in np.unique(y_kmeans):\n",
    "    idx = np.where(y_kmeans==cluster)[0]\n",
    "    x = df.loc[idx]\n",
    "    x['Cluster'] = cluster\n",
    "    temp = temp.append(x).reset_index(drop=True)\n",
    "temp.to_csv('K4_clusters.csv')\n",
    "np.round(kmeans.cluster_centers_,2)"
   ]
  },
  {
   "cell_type": "code",
   "execution_count": 13,
   "metadata": {
    "scrolled": false
   },
   "outputs": [
    {
     "data": {
      "text/plain": [
       "array([[ 0.86,  0.64,  0.21,  0.89,  0.39,  0.36,  0.36, -0.  ],\n",
       "       [ 0.69,  0.75,  1.  , -0.  ,  0.62,  0.25,  0.44,  0.  ],\n",
       "       [ 0.  ,  1.  ,  0.17,  0.  ,  1.  ,  0.83,  0.48,  0.39],\n",
       "       [ 0.82,  0.41,  0.94,  0.76,  0.18,  0.65,  1.  ,  0.82],\n",
       "       [ 0.69,  0.75,  0.06,  0.94,  0.5 ,  0.06,  1.  ,  1.  ]])"
      ]
     },
     "execution_count": 13,
     "metadata": {},
     "output_type": "execute_result"
    }
   ],
   "source": [
    "k = 5\n",
    "kmeans = KMeans(n_clusters=k, random_state=42)\n",
    "kmeans.fit(df.values)\n",
    "y_kmeans = kmeans.predict(df.values)\n",
    "\n",
    "temp = pd.DataFrame(columns=df.columns.tolist()+['Cluster'])\n",
    "for cluster in np.unique(y_kmeans):\n",
    "    idx = np.where(y_kmeans==cluster)[0]\n",
    "    x = df.loc[idx]\n",
    "    x['Cluster'] = cluster\n",
    "    temp = temp.append(x).reset_index(drop=True)\n",
    "temp.to_csv('K5_clusters.csv')\n",
    "np.round(kmeans.cluster_centers_,2)"
   ]
  },
  {
   "cell_type": "code",
   "execution_count": 14,
   "metadata": {
    "scrolled": false
   },
   "outputs": [
    {
     "data": {
      "text/plain": [
       "array([[ 0.  ,  0.11,  0.11,  1.  ,  0.44, -0.  ,  0.78,  0.67],\n",
       "       [ 0.17,  1.  ,  0.52,  0.04,  1.  ,  0.52,  0.22,  0.  ],\n",
       "       [ 0.96,  0.71,  0.54,  0.79,  0.33,  0.38,  1.  ,  1.  ],\n",
       "       [ 0.94,  0.82,  0.47,  0.94,  0.53,  0.76,  0.71,  0.  ],\n",
       "       [ 1.  ,  0.41,  0.47,  0.47,  0.06,  0.12,  0.18,  0.  ],\n",
       "       [ 0.  ,  1.  ,  0.1 , -0.  ,  1.  ,  0.9 ,  1.  ,  0.9 ]])"
      ]
     },
     "execution_count": 14,
     "metadata": {},
     "output_type": "execute_result"
    }
   ],
   "source": [
    "k = 6\n",
    "kmeans = KMeans(n_clusters=k, random_state=42)\n",
    "kmeans.fit(df.values)\n",
    "y_kmeans = kmeans.predict(df.values)\n",
    "\n",
    "temp = pd.DataFrame(columns=df.columns.tolist()+['Cluster'])\n",
    "for cluster in np.unique(y_kmeans):\n",
    "    idx = np.where(y_kmeans==cluster)[0]\n",
    "    x = df.loc[idx]\n",
    "    x['Cluster'] = cluster\n",
    "    temp = temp.append(x).reset_index(drop=True)\n",
    "temp.to_csv('K6_clusters.csv')\n",
    "np.round(kmeans.cluster_centers_,2)"
   ]
  },
  {
   "cell_type": "code",
   "execution_count": 15,
   "metadata": {
    "scrolled": false
   },
   "outputs": [
    {
     "data": {
      "text/plain": [
       "array([[ 0.14,  1.  ,  0.5 ,  0.05,  1.  ,  0.55,  0.18,  0.  ],\n",
       "       [ 0.9 ,  0.85,  0.45,  1.  ,  0.3 ,  0.3 ,  1.  ,  0.95],\n",
       "       [ 1.  ,  0.69,  0.06,  0.81,  0.13,  0.19,  0.31,  0.  ],\n",
       "       [ 0.09,  1.  ,  0.09, -0.  ,  1.  ,  0.82,  1.  ,  0.91],\n",
       "       [ 0.91,  0.55,  0.73,  1.  ,  0.73,  1.  ,  0.64,  0.09],\n",
       "       [ 1.  ,  0.42,  1.  , -0.  ,  0.17,  0.33,  0.67,  0.33],\n",
       "       [ 0.  ,  0.  ,  0.12,  1.  ,  0.5 , -0.  ,  0.75,  0.62]])"
      ]
     },
     "execution_count": 15,
     "metadata": {},
     "output_type": "execute_result"
    }
   ],
   "source": [
    "k = 7\n",
    "kmeans = KMeans(n_clusters=k, random_state=42)\n",
    "kmeans.fit(df.values)\n",
    "y_kmeans = kmeans.predict(df.values)\n",
    "\n",
    "temp = pd.DataFrame(columns=df.columns.tolist()+['Cluster'])\n",
    "for cluster in np.unique(y_kmeans):\n",
    "    idx = np.where(y_kmeans==cluster)[0]\n",
    "    x = df.loc[idx]\n",
    "    x['Cluster'] = cluster\n",
    "    temp = temp.append(x).reset_index(drop=True)\n",
    "temp.to_csv('K7_clusters.csv')\n",
    "np.round(kmeans.cluster_centers_,2)"
   ]
  },
  {
   "cell_type": "code",
   "execution_count": 16,
   "metadata": {
    "scrolled": false
   },
   "outputs": [
    {
     "data": {
      "text/plain": [
       "array([[ 0.81,  0.75,  0.06,  0.94,  0.25,  0.19,  0.31,  0.  ],\n",
       "       [ 0.  ,  1.  ,  0.15, -0.  ,  1.  ,  0.77,  0.08,  0.  ],\n",
       "       [ 0.36,  0.09,  0.45,  0.82,  0.27, -0.  ,  1.  ,  0.91],\n",
       "       [ 0.86,  0.64,  0.86,  0.79,  0.14,  0.93,  1.  ,  0.71],\n",
       "       [ 1.  ,  1.  ,  0.07,  0.93,  0.71,  0.21,  1.  ,  0.71],\n",
       "       [ 0.6 ,  0.93,  1.  ,  0.2 ,  0.87,  0.47,  0.4 ,  0.  ],\n",
       "       [ 0.  ,  1.  ,  0.11, -0.  ,  1.  ,  0.89,  1.  ,  1.  ],\n",
       "       [ 1.  ,  0.  ,  0.75,  0.25,  0.12,  0.12,  0.13, -0.  ]])"
      ]
     },
     "execution_count": 16,
     "metadata": {},
     "output_type": "execute_result"
    }
   ],
   "source": [
    "k = 8\n",
    "kmeans = KMeans(n_clusters=k, random_state=42)\n",
    "kmeans.fit(df.values)\n",
    "y_kmeans = kmeans.predict(df.values)\n",
    "\n",
    "temp = pd.DataFrame(columns=df.columns.tolist()+['Cluster'])\n",
    "for cluster in np.unique(y_kmeans):\n",
    "    idx = np.where(y_kmeans==cluster)[0]\n",
    "    x = df.loc[idx]\n",
    "    x['Cluster'] = cluster\n",
    "    temp = temp.append(x).reset_index(drop=True)\n",
    "temp.to_csv('K8_clusters.csv')\n",
    "np.round(kmeans.cluster_centers_,2)"
   ]
  }
 ],
 "metadata": {
  "kernelspec": {
   "display_name": "Python 3",
   "language": "python",
   "name": "python3"
  },
  "language_info": {
   "codemirror_mode": {
    "name": "ipython",
    "version": 3
   },
   "file_extension": ".py",
   "mimetype": "text/x-python",
   "name": "python",
   "nbconvert_exporter": "python",
   "pygments_lexer": "ipython3",
   "version": "3.7.3"
  }
 },
 "nbformat": 4,
 "nbformat_minor": 2
}
